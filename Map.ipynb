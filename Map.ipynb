{
  "nbformat": 4,
  "nbformat_minor": 0,
  "metadata": {
    "colab": {
      "provenance": [],
      "authorship_tag": "ABX9TyM0gfqQj+FaQdfLiHITp4EY",
      "include_colab_link": true
    },
    "kernelspec": {
      "name": "python3",
      "display_name": "Python 3"
    },
    "language_info": {
      "name": "python"
    }
  },
  "cells": [
    {
      "cell_type": "markdown",
      "metadata": {
        "id": "view-in-github",
        "colab_type": "text"
      },
      "source": [
        "<a href=\"https://colab.research.google.com/github/Anuprabhatek/Test/blob/main/Map.ipynb\" target=\"_parent\"><img src=\"https://colab.research.google.com/assets/colab-badge.svg\" alt=\"Open In Colab\"/></a>"
      ]
    },
    {
      "cell_type": "code",
      "execution_count": null,
      "metadata": {
        "id": "i9Sx6LzCRnuv"
      },
      "outputs": [],
      "source": []
    },
    {
      "cell_type": "code",
      "source": [
        "# prompt: function to show map() in python\n",
        "\n",
        "def show_map_example():\n",
        "  \"\"\"Demonstrates the use of the map() function in Python.\"\"\"\n",
        "\n",
        "  numbers = [1, 2, 3, 4, 5]\n",
        "\n",
        "  # Square each number using map() and a lambda function\n",
        "  squared_numbers = list(map(lambda x: x**2, numbers))\n",
        "  print(\"Original numbers:\", numbers)\n",
        "  print(\"Squared numbers:\", squared_numbers)\n",
        "\n",
        "  # Using map with a defined function\n",
        "  def cube(x):\n",
        "    return x**3\n",
        "\n",
        "  cubed_numbers = list(map(cube, numbers))\n",
        "  print(\"Cubed numbers:\", cubed_numbers)\n",
        "\n",
        "  # Mapping over multiple lists (same length)\n",
        "  list1 = [1, 2, 3]\n",
        "  list2 = [4, 5, 6]\n",
        "\n",
        "  added_lists = list(map(lambda x, y: x + y, list1, list2))\n",
        "  print(\"Sum of corresponding elements:\", added_lists)\n",
        "\n",
        "show_map_example()\n"
      ],
      "metadata": {
        "colab": {
          "base_uri": "https://localhost:8080/"
        },
        "id": "XkjCP2ILRy4O",
        "outputId": "5a6e214e-c309-4460-8f37-787b1c3b7065"
      },
      "execution_count": 1,
      "outputs": [
        {
          "output_type": "stream",
          "name": "stdout",
          "text": [
            "Original numbers: [1, 2, 3, 4, 5]\n",
            "Squared numbers: [1, 4, 9, 16, 25]\n",
            "Cubed numbers: [1, 8, 27, 64, 125]\n",
            "Sum of corresponding elements: [5, 7, 9]\n"
          ]
        }
      ]
    }
  ]
}